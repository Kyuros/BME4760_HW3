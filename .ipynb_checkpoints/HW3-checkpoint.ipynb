{
 "cells": [
  {
   "cell_type": "markdown",
   "metadata": {},
   "source": [
    "# Biomedical Data Science HW3"
   ]
  },
  {
   "cell_type": "markdown",
   "metadata": {},
   "source": [
    "## BME4760\n",
    "This dataset represents expression levels of 2000 genes from 62 different samples of colon cancer. Due to the amount of features, feature reduction is implemented to reduce the amount of computation and remove insignificant features that play little role in classification. Including these features don't reduce the performance of the model, but increase the computational time. A label of 1/0 indicates whether a sample came from a <b>tumor biopsy</b> or not.\n",
    "\n",
    "### Loading Data\n",
    "CSV data is loaded in through pandas, then the data is split into the labels and features for splitting into training and test splits. The shapes of the labels and features are included. The first column is the label indicating a tumor biopsy and is placed into the labels. The rest of the <b>2000</b> columns are the features that are included into a feature subset."
   ]
  },
  {
   "cell_type": "code",
   "execution_count": 1,
   "metadata": {
    "scrolled": true
   },
   "outputs": [
    {
     "name": "stdout",
     "output_type": "stream",
     "text": [
      "Dataset shape is:  (62, 2001)\n",
      "Label shape is: (62,)\n",
      "Feature shape is: (62, 2000)\n"
     ]
    }
   ],
   "source": [
    "import pandas as pd\n",
    "df = pd.read_csv(\"HW3Data.csv\",header=None)\n",
    "\n",
    "labels = df.loc[:,0].values\n",
    "features = df.loc[:,1:].values\n",
    "\n",
    "print(\"Dataset shape is: \",df.shape)\n",
    "print(\"Label shape is:\",labels.shape)\n",
    "print(\"Feature shape is:\",features.shape)"
   ]
  },
  {
   "cell_type": "markdown",
   "metadata": {},
   "source": [
    "The dataset that is split into the labels and features are used within the <b> train_test_split </b> to then further subdivide into training and test features and labels. This will be used later after feature elimination in holdout for testing the model. The shapes of the label and features of both training and testing are printed. The testing set is preserved and is not used within the feature selection function."
   ]
  },
  {
   "cell_type": "code",
   "execution_count": 2,
   "metadata": {
    "scrolled": true
   },
   "outputs": [
    {
     "name": "stdout",
     "output_type": "stream",
     "text": [
      "X_train shape:  (49, 2000)\n",
      "X_test shape:  (13, 2000)\n",
      "y_train shape:  (49,)\n",
      "y_test shape:  (13,)\n"
     ]
    }
   ],
   "source": [
    "from sklearn.model_selection import train_test_split\n",
    "X_train, X_test, y_train, y_test = train_test_split(features,labels,test_size=0.20,stratify=labels,random_state=4760)\n",
    "print(\"X_train shape: \", X_train.shape)\n",
    "print(\"X_test shape: \", X_test.shape)\n",
    "print(\"y_train shape: \", y_train.shape)\n",
    "print(\"y_test shape: \", y_test.shape)"
   ]
  },
  {
   "cell_type": "markdown",
   "metadata": {},
   "source": [
    "A recursive feature elimination with cross-validation is performed to automatically tune the number of features selected from this training data set. 10-Fold cross validation is used and only the training data set to prevent the test data from being mixed into the recursive function. The machine learning model used after the feature elimination would be <b> Support Vector Classifier </b>. The number of features found to be optimal was 481, tuned down from the 2000 features that were available."
   ]
  },
  {
   "cell_type": "code",
   "execution_count": 3,
   "metadata": {
    "scrolled": true
   },
   "outputs": [
    {
     "name": "stdout",
     "output_type": "stream",
     "text": [
      "Optimal number of features : 481\n"
     ]
    }
   ],
   "source": [
    "from sklearn.svm import SVC\n",
    "from sklearn.feature_selection import RFECV\n",
    "\n",
    "svc = SVC(kernel=\"linear\")\n",
    "rfecv = RFECV(estimator=svc, step=1, cv=10, scoring='accuracy')\n",
    "rfecv.fit(X_train,y_train)\n",
    "\n",
    "print(\"Optimal number of features : %d\" % rfecv.n_features_)"
   ]
  },
  {
   "cell_type": "markdown",
   "metadata": {},
   "source": [
    "The results from recursive feature elimination is displayed on the graph below showing how the optimal number of features was found. Past around 1000 features is when it doesn't matter to add more features and will not affect the accuracy. There was also a spike of accuracy under 250 features, but was insufficient to have the highest accuracy."
   ]
  },
  {
   "cell_type": "code",
   "execution_count": 6,
   "metadata": {
    "scrolled": true
   },
   "outputs": [
    {
     "data": {
      "image/png": "[encoded data removed]",
      "text/plain": [
       "<Figure size 432x288 with 1 Axes>"
      ]
     },
     "metadata": {},
     "output_type": "display_data"
    }
   ],
   "source": [
    "import matplotlib.pyplot as plt\n",
    "\n",
    "plt.figure()\n",
    "plt.xlabel(\"Number of features selected\")\n",
    "plt.ylabel(\"Cross validation score (nb of correct classifications)\")\n",
    "plt.plot(range(1,len(rfecv.grid_scores_) + 1), rfecv.grid_scores_)\n",
    "plt.show()"
   ]
  },
  {
   "cell_type": "markdown",
   "metadata": {},
   "source": [
    "The holdout method is applied using the support vector classifier model using the optimal features described from the recursive elimination method. Applying this model provides a 92.3% accuracy to classifying whether a tumor biopsy is needed or not among 13 unseen patients by the model. The predictions from the SVC model is also printed along with the ground truth to reveal how it was classified. The performance of the model is pretty well only missing a sample out of the 13 testing samples."
   ]
  },
  {
   "cell_type": "code",
   "execution_count": 7,
   "metadata": {},
   "outputs": [
    {
     "name": "stdout",
     "output_type": "stream",
     "text": [
      "Test Accuracy: 0.923\n",
      "Predictions:  [1 1 0 0 1 1 0 0 0 1 0 0 1]\n",
      "Ground Truth: [1 1 0 0 1 0 0 0 0 1 0 0 1]\n"
     ]
    }
   ],
   "source": [
    "svc.fit(X_train[:,rfecv.support_],y_train)\n",
    "y_pred = svc.predict(X_test[:,rfecv.support_])\n",
    "print('Test Accuracy: %.3f' % svc.score(X_test[:,rfecv.support_], y_test))\n",
    "print('Predictions: ',y_pred)\n",
    "print('Ground Truth:',y_test)"
   ]
  }
 ],
 "metadata": {
  "kernelspec": {
   "display_name": "Python 3",
   "language": "python",
   "name": "python3"
  },
  "language_info": {
   "codemirror_mode": {
    "name": "ipython",
    "version": 3
   },
   "file_extension": ".py",
   "mimetype": "text/x-python",
   "name": "python",
   "nbconvert_exporter": "python",
   "pygments_lexer": "ipython3",
   "version": "3.6.5"
  }
 },
 "nbformat": 4,
 "nbformat_minor": 2
}
